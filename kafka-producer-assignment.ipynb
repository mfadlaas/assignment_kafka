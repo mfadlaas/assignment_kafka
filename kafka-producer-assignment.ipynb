{
 "cells": [
  {
   "cell_type": "code",
   "execution_count": 1,
   "id": "a85fb357-8d5a-4b69-be6b-8cadcd440929",
   "metadata": {
    "tags": []
   },
   "outputs": [],
   "source": [
    "import json\n",
    "import uuid\n",
    "import os\n",
    "from dotenv import load_dotenv\n",
    "from pathlib import Path\n",
    "from kafka import KafkaProducer\n",
    "from kafka.admin import KafkaAdminClient, NewTopic, NewPartitions\n",
    "from kafka.errors import TopicAlreadyExistsError\n",
    "from faker import Faker\n",
    "from time import sleep\n",
    "import random"
   ]
  },
  {
   "cell_type": "code",
   "execution_count": 2,
   "id": "e3bcf10a-5cf9-4a87-abae-8c55bc558844",
   "metadata": {
    "tags": []
   },
   "outputs": [
    {
     "data": {
      "text/plain": [
       "True"
      ]
     },
     "execution_count": 2,
     "metadata": {},
     "output_type": "execute_result"
    }
   ],
   "source": [
    "# Load environment variables\n",
    "dotenv_path = Path('/resources/.env')\n",
    "load_dotenv(dotenv_path=dotenv_path)"
   ]
  },
  {
   "cell_type": "code",
   "execution_count": 3,
   "id": "ab8d768d-d211-49c0-ae1f-76d5c0f4a5d0",
   "metadata": {
    "tags": []
   },
   "outputs": [],
   "source": [
    "# Kafka configuration\n",
    "kafka_host = os.getenv('KAFKA_HOST')\n",
    "kafka_topic = os.getenv('KAFKA_TOPIC_NAME')"
   ]
  },
  {
   "cell_type": "code",
   "execution_count": 4,
   "id": "b553a89d-9852-457a-949e-b439ff650b77",
   "metadata": {
    "tags": []
   },
   "outputs": [
    {
     "name": "stdout",
     "output_type": "stream",
     "text": [
      "Kafka Host: dataeng-kafka\n",
      "Kafka Topic: test-topic\n"
     ]
    }
   ],
   "source": [
    "print(f\"Kafka Host: {kafka_host}\")\n",
    "print(f\"Kafka Topic: {kafka_topic}\")"
   ]
  },
  {
   "cell_type": "code",
   "execution_count": 5,
   "id": "2d321552-0d7f-4eb8-a276-8bde290a0091",
   "metadata": {
    "tags": []
   },
   "outputs": [],
   "source": [
    "# Initialize Kafka Admin Client\n",
    "admin_client = KafkaAdminClient(bootstrap_servers=f\"{kafka_host}:9092\")"
   ]
  },
  {
   "cell_type": "code",
   "execution_count": 6,
   "id": "f4a4f874-5ec5-4283-b921-87a3a4052e70",
   "metadata": {},
   "outputs": [],
   "source": [
    "def create_or_update_topic(topic_name, num_partitions):\n",
    "    try:\n",
    "        # Attempt to create a new topic\n",
    "        topic = NewTopic(name=topic_name, num_partitions=num_partitions, replication_factor=1)\n",
    "        admin_client.create_topics(new_topics=[topic], validate_only=False)\n",
    "        print(f\"Successfully created topic '{topic_name}' with {num_partitions} partitions.\")\n",
    "    except TopicAlreadyExistsError:\n",
    "        print(f\"Topic '{topic_name}' already exists. Checking partitions...\")\n",
    "        # If the topic exists, check the current number of partitions\n",
    "        topic_metadata = admin_client.describe_topics([topic_name])\n",
    "        current_partition_count = len(topic_metadata[0]['partitions'])\n",
    "        print(f\"Current partition count for topic '{topic_name}': {current_partition_count}\")\n",
    "        \n",
    "        # Increase the number of partitions if necessary\n",
    "        if current_partition_count < num_partitions:\n",
    "            print(f\"Increasing partitions for topic '{topic_name}' to {num_partitions}...\")\n",
    "            admin_client.create_partitions(\n",
    "                topic_partitions={topic_name: NewPartitions(total_count=num_partitions)}\n",
    "            )\n",
    "            print(f\"Successfully updated partitions for topic '{topic_name}'.\")\n",
    "        else:\n",
    "            print(f\"Topic '{topic_name}' already has {current_partition_count} partitions.\")"
   ]
  },
  {
   "cell_type": "code",
   "execution_count": 7,
   "id": "543f0ef9-29c1-404f-b907-df5c2e473a46",
   "metadata": {},
   "outputs": [
    {
     "name": "stdout",
     "output_type": "stream",
     "text": [
      "Topic 'test-topic' already exists. Checking partitions...\n",
      "Current partition count for topic 'test-topic': 2\n",
      "Topic 'test-topic' already has 2 partitions.\n"
     ]
    }
   ],
   "source": [
    "# Call the function to create or update the topic\n",
    "create_or_update_topic(kafka_topic, 2)  # Change the number to your desired partition count"
   ]
  },
  {
   "cell_type": "code",
   "execution_count": 8,
   "id": "a5a1865e-672a-40bf-8004-80d5603294da",
   "metadata": {
    "tags": []
   },
   "outputs": [
    {
     "name": "stdout",
     "output_type": "stream",
     "text": [
      "Final partition count for topic 'test-topic': 2\n"
     ]
    }
   ],
   "source": [
    "# Validate partitions again to get the final count\n",
    "topic_metadata = admin_client.describe_topics([kafka_topic])\n",
    "partition_count = len(topic_metadata[0]['partitions'])\n",
    "print(f\"Final partition count for topic '{kafka_topic}': {partition_count}\")"
   ]
  },
  {
   "cell_type": "code",
   "execution_count": 9,
   "id": "c7182ee2-dea7-498e-84f3-066815bc141e",
   "metadata": {},
   "outputs": [],
   "source": [
    "faker = Faker()"
   ]
  },
  {
   "cell_type": "code",
   "execution_count": 10,
   "id": "13a7e474-2937-4508-ad06-ec01ff521972",
   "metadata": {
    "tags": []
   },
   "outputs": [],
   "source": [
    "class DataGenerator:\n",
    "    @staticmethod\n",
    "    def get_data():\n",
    "        \"\"\"Generate random consumer data.\"\"\"\n",
    "        return {\n",
    "            \"consumer_id\": str(uuid.uuid4()),\n",
    "            \"name\": faker.name(),\n",
    "            \"address\": faker.address().replace(\"\\n\", \", \"),\n",
    "            \"email\": faker.email(),\n",
    "            \"phone_number\": faker.phone_number(),\n",
    "            \"gender\": faker.random_element(elements=[\"Male\", \"Female\"]),\n",
    "            \"birth_date\": faker.date_of_birth(minimum_age=18, maximum_age=80).strftime(\"%Y-%m-%d\"),\n",
    "            \"marital_status\": faker.random_element(elements=[\"Single\", \"Married\", \"Divorced\", \"Widowed\"]),\n",
    "            \"annual_income\": faker.random_int(min=20000, max=200000),\n",
    "            \"signup_date\": faker.date_this_decade().strftime(\"%Y-%m-%d\"),\n",
    "        }"
   ]
  },
  {
   "cell_type": "code",
   "execution_count": 11,
   "id": "4bd2e571-0059-41f2-8060-5c98e9eeb114",
   "metadata": {},
   "outputs": [],
   "source": [
    "# Initialize Kafka Producer\n",
    "producer = KafkaProducer(bootstrap_servers=f'{kafka_host}:9092')"
   ]
  },
  {
   "cell_type": "code",
   "execution_count": 12,
   "id": "0d9367d4-0104-4853-adc1-fd172f123d58",
   "metadata": {
    "tags": []
   },
   "outputs": [
    {
     "name": "stdout",
     "output_type": "stream",
     "text": [
      "Sent to partition 0: {'consumer_id': '2ad0a0ec-ab22-42f6-83dc-a937f8d31c2f', 'name': 'Valerie Roy', 'address': '50435 Sellers Stravenue Apt. 837, Khanchester, MT 89544', 'email': 'ochoalucas@example.net', 'phone_number': '001-383-912-7920x44977', 'gender': 'Male', 'birth_date': '1948-09-04', 'marital_status': 'Widowed', 'annual_income': 180154, 'signup_date': '2020-05-20'}\n",
      "Sent to partition 1: {'consumer_id': 'e65b7bca-08ea-42e9-8d3c-df4d28bec5ce', 'name': 'Justin Clayton', 'address': '537 Carter Springs, South Meganport, IL 80550', 'email': 'bradleymoreno@example.org', 'phone_number': '(428)618-6090x3915', 'gender': 'Female', 'birth_date': '1992-03-29', 'marital_status': 'Divorced', 'annual_income': 31570, 'signup_date': '2022-01-10'}\n",
      "Sent to partition 0: {'consumer_id': 'f336df85-8d12-40d2-a82b-7859ede8347f', 'name': 'Mark Dennis', 'address': '611 Megan Stravenue, New Shelleyside, MT 35710', 'email': 'bruceestrada@example.net', 'phone_number': '(372)971-3725', 'gender': 'Female', 'birth_date': '2004-01-07', 'marital_status': 'Married', 'annual_income': 154142, 'signup_date': '2024-04-14'}\n",
      "Sent to partition 1: {'consumer_id': '64abae8a-df87-41f1-92ba-07ac4dbd0d57', 'name': 'Stephen Smith', 'address': '76329 Kimberly Dale Suite 571, South Stuartborough, IA 90161', 'email': 'micheleroberts@example.com', 'phone_number': '862.016.5231x837', 'gender': 'Female', 'birth_date': '1986-06-28', 'marital_status': 'Married', 'annual_income': 101323, 'signup_date': '2023-08-24'}\n",
      "Sent to partition 0: {'consumer_id': '16474b73-ff50-410a-9a2b-9ab1034343fe', 'name': 'Valerie Parrish', 'address': '10308 Jennifer Junction Apt. 848, South Johnstad, MS 66869', 'email': 'maykatherine@example.net', 'phone_number': '944.840.7072x6744', 'gender': 'Male', 'birth_date': '1944-03-24', 'marital_status': 'Divorced', 'annual_income': 56779, 'signup_date': '2020-06-29'}\n",
      "Sent to partition 0: {'consumer_id': '361a2ad1-2d91-4046-b4dd-f27087499588', 'name': 'Mia Oconnor', 'address': '32989 Michelle Freeway Suite 155, Lynchport, AZ 80932', 'email': 'chad15@example.com', 'phone_number': '(383)316-5203x909', 'gender': 'Female', 'birth_date': '1972-06-22', 'marital_status': 'Single', 'annual_income': 73483, 'signup_date': '2024-07-20'}\n",
      "Sent to partition 0: {'consumer_id': '1bf9a647-9a7c-4aa7-9390-ae41c4e74b6e', 'name': 'Diana Suarez', 'address': '448 Zachary Estates, East Charleschester, WI 43538', 'email': 'stacy79@example.net', 'phone_number': '(253)262-5181x235', 'gender': 'Male', 'birth_date': '1987-08-21', 'marital_status': 'Widowed', 'annual_income': 119475, 'signup_date': '2021-04-03'}\n",
      "Sent to partition 1: {'consumer_id': '73d9d1f7-4195-403a-afc1-f7de2a44af09', 'name': 'Jordan Vargas', 'address': '382 Randy Path, North Jenniferport, SC 22371', 'email': 'brooksjoseph@example.com', 'phone_number': '+1-693-815-8124', 'gender': 'Male', 'birth_date': '1982-12-27', 'marital_status': 'Single', 'annual_income': 68176, 'signup_date': '2022-09-21'}\n",
      "Sent to partition 1: {'consumer_id': '95a92cf1-4407-4505-8e4c-10e837c0ba9e', 'name': 'Brittany Fleming', 'address': '913 Zimmerman Garden, Halltown, DE 17250', 'email': 'greenejoshua@example.org', 'phone_number': '001-559-813-3872x70106', 'gender': 'Male', 'birth_date': '1981-09-09', 'marital_status': 'Widowed', 'annual_income': 141929, 'signup_date': '2020-02-22'}\n",
      "Sent to partition 1: {'consumer_id': 'c2e8a828-dc1b-4a6f-918f-60eb889b5605', 'name': 'Anthony Jones', 'address': '274 Kennedy Fall, Lake Christopherchester, AK 71169', 'email': 'lambertbilly@example.org', 'phone_number': '349.589.4446x4062', 'gender': 'Male', 'birth_date': '1948-05-05', 'marital_status': 'Divorced', 'annual_income': 163858, 'signup_date': '2023-09-23'}\n"
     ]
    }
   ],
   "source": [
    "# Number of events to send\n",
    "num_events = 10  # Change this to the number of events you want to send\n",
    "\n",
    "# Send a fixed number of events to Kafka\n",
    "for i in range(num_events):\n",
    "    # Generate random consumer data\n",
    "    data = DataGenerator.get_data()\n",
    "    payload = json.dumps(data).encode(\"utf-8\")\n",
    "\n",
    "    # Randomly assign partition based on available partitions\n",
    "    partition = random.choice(range(partition_count))\n",
    "\n",
    "    try:\n",
    "        response = producer.send(topic=kafka_topic, value=payload, partition=partition)\n",
    "        print(f\"Sent to partition {partition}: {data}\")\n",
    "    except Exception as e:\n",
    "        print(f\"Error sending to partition {partition}: {e}\")\n",
    "    \n",
    "    # Sleep for 5 seconds before sending the next event\n",
    "    sleep(5)"
   ]
  },
  {
   "cell_type": "code",
   "execution_count": null,
   "id": "a7704d9c-1e6c-48ff-8df0-8d2a6e34a0f9",
   "metadata": {},
   "outputs": [],
   "source": []
  },
  {
   "cell_type": "code",
   "execution_count": null,
   "id": "3807f6b6-2ed1-4b8c-9431-94fd07659825",
   "metadata": {},
   "outputs": [],
   "source": []
  }
 ],
 "metadata": {
  "kernelspec": {
   "display_name": "Python 3 (ipykernel)",
   "language": "python",
   "name": "python3"
  },
  "language_info": {
   "codemirror_mode": {
    "name": "ipython",
    "version": 3
   },
   "file_extension": ".py",
   "mimetype": "text/x-python",
   "name": "python",
   "nbconvert_exporter": "python",
   "pygments_lexer": "ipython3",
   "version": "3.10.10"
  }
 },
 "nbformat": 4,
 "nbformat_minor": 5
}

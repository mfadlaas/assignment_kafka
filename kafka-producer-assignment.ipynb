{
 "cells": [
  {
   "cell_type": "code",
   "execution_count": 1,
   "id": "a85fb357-8d5a-4b69-be6b-8cadcd440929",
   "metadata": {
    "tags": []
   },
   "outputs": [],
   "source": [
    "import json\n",
    "import uuid\n",
    "import os\n",
    "from dotenv import load_dotenv\n",
    "from pathlib import Path\n",
    "from kafka import KafkaProducer\n",
    "from kafka.admin import KafkaAdminClient, NewPartitions\n",
    "from faker import Faker\n",
    "from time import sleep\n",
    "import random"
   ]
  },
  {
   "cell_type": "code",
   "execution_count": 2,
   "id": "e3bcf10a-5cf9-4a87-abae-8c55bc558844",
   "metadata": {
    "tags": []
   },
   "outputs": [
    {
     "data": {
      "text/plain": [
       "True"
      ]
     },
     "execution_count": 2,
     "metadata": {},
     "output_type": "execute_result"
    }
   ],
   "source": [
    "# Load environment variables\n",
    "dotenv_path = Path('/resources/.env')\n",
    "load_dotenv(dotenv_path=dotenv_path)"
   ]
  },
  {
   "cell_type": "code",
   "execution_count": 3,
   "id": "ab8d768d-d211-49c0-ae1f-76d5c0f4a5d0",
   "metadata": {
    "tags": []
   },
   "outputs": [],
   "source": [
    "# Kafka configuration\n",
    "kafka_host = os.getenv('KAFKA_HOST')\n",
    "kafka_topic = os.getenv('KAFKA_TOPIC_NAME')"
   ]
  },
  {
   "cell_type": "code",
   "execution_count": 4,
   "id": "b553a89d-9852-457a-949e-b439ff650b77",
   "metadata": {
    "tags": []
   },
   "outputs": [
    {
     "name": "stdout",
     "output_type": "stream",
     "text": [
      "Kafka Host: dataeng-kafka\n",
      "Kafka Topic: test-topic\n"
     ]
    }
   ],
   "source": [
    "print(f\"Kafka Host: {kafka_host}\")\n",
    "print(f\"Kafka Topic: {kafka_topic}\")"
   ]
  },
  {
   "cell_type": "code",
   "execution_count": 5,
   "id": "f4a4f874-5ec5-4283-b921-87a3a4052e70",
   "metadata": {},
   "outputs": [
    {
     "name": "stdout",
     "output_type": "stream",
     "text": [
      "Error creating topic 'test-topic': name 'NewTopic' is not defined\n"
     ]
    }
   ],
   "source": [
    "# Define the topic with a specific number of partitions\n",
    "def create_topic_with_partitions(topic_name, num_partitions):\n",
    "    try:\n",
    "        # Create a new topic with the specified number of partitions\n",
    "        topic = NewTopic(name=topic_name, num_partitions=num_partitions, replication_factor=1)\n",
    "        admin_client.create_topics(new_topics=[topic], validate_only=False)\n",
    "        print(f\"Successfully created topic '{topic_name}' with {num_partitions} partitions.\")\n",
    "    except Exception as e:\n",
    "        print(f\"Error creating topic '{topic_name}': {e}\")\n",
    "\n",
    "# Call the function to create the topic with the desired number of partitions\n",
    "create_topic_with_partitions(kafka_topic, 2)  # Change the number to your desired partition count"
   ]
  },
  {
   "cell_type": "code",
   "execution_count": 6,
   "id": "e269127a-8e59-48dd-94aa-8e0e10e4e303",
   "metadata": {
    "tags": []
   },
   "outputs": [],
   "source": [
    "# Initialize Kafka Producer\n",
    "producer = KafkaProducer(bootstrap_servers=f'{kafka_host}:9092')\n",
    "faker = Faker()"
   ]
  },
  {
   "cell_type": "code",
   "execution_count": 7,
   "id": "4d8c1dba-dcb5-404d-abd8-2f04e61dcc6f",
   "metadata": {
    "tags": []
   },
   "outputs": [],
   "source": [
    "# Initialize Kafka Admin Client\n",
    "admin_client = KafkaAdminClient(bootstrap_servers=f\"{kafka_host}:9092\")"
   ]
  },
  {
   "cell_type": "code",
   "execution_count": 8,
   "id": "a5a1865e-672a-40bf-8004-80d5603294da",
   "metadata": {
    "tags": []
   },
   "outputs": [
    {
     "name": "stdout",
     "output_type": "stream",
     "text": [
      "Final partition count for topic 'test-topic': 2\n"
     ]
    }
   ],
   "source": [
    "# Validate partitions again to get the final count\n",
    "topic_metadata = admin_client.describe_topics([kafka_topic])\n",
    "partition_count = len(topic_metadata[0]['partitions'])\n",
    "print(f\"Final partition count for topic '{kafka_topic}': {partition_count}\")"
   ]
  },
  {
   "cell_type": "code",
   "execution_count": 9,
   "id": "13a7e474-2937-4508-ad06-ec01ff521972",
   "metadata": {
    "tags": []
   },
   "outputs": [],
   "source": [
    "class DataGenerator:\n",
    "    @staticmethod\n",
    "    def get_data():\n",
    "        \"\"\"Generate random consumer data.\"\"\"\n",
    "        return {\n",
    "            \"consumer_id\": str(uuid.uuid4()),\n",
    "            \"name\": faker.name(),\n",
    "            \"address\": faker.address().replace(\"\\n\", \", \"),\n",
    "            \"email\": faker.email(),\n",
    "            \"phone_number\": faker.phone_number(),\n",
    "            \"gender\": faker.random_element(elements=[\"Male\", \"Female\"]),\n",
    "            \"birth_date\": faker.date_of_birth(minimum_age=18, maximum_age=80).strftime(\"%Y-%m-%d\"),\n",
    "            \"marital_status\": faker.random_element(elements=[\"Single\", \"Married\", \"Divorced\", \"Widowed\"]),\n",
    "            \"annual_income\": faker.random_int(min=20000, max=200000),\n",
    "            \"signup_date\": faker.date_this_decade().strftime(\"%Y-%m-%d\"),\n",
    "        }"
   ]
  },
  {
   "cell_type": "code",
   "execution_count": 10,
   "id": "0d9367d4-0104-4853-adc1-fd172f123d58",
   "metadata": {
    "tags": []
   },
   "outputs": [
    {
     "name": "stdout",
     "output_type": "stream",
     "text": [
      "Sent to partition 1: {'consumer_id': '01510de0-4579-4827-9bab-750a56ce2ce1', 'name': 'Patrick Smith', 'address': '8007 Jessica Tunnel Apt. 094, Churchmouth, WI 36464', 'email': 'unewman@example.com', 'phone_number': '(546)735-0604x51941', 'gender': 'Male', 'birth_date': '1979-08-28', 'marital_status': 'Married', 'annual_income': 149821, 'signup_date': '2024-03-04'}\n",
      "Sent to partition 0: {'consumer_id': '8335b5b2-6d82-4c8d-9ea3-2d0ace851b58', 'name': 'Laurie Smith', 'address': '011 Zachary Track, Smithport, DC 20580', 'email': 'elopez@example.com', 'phone_number': '412.055.2865x6790', 'gender': 'Male', 'birth_date': '1990-12-22', 'marital_status': 'Divorced', 'annual_income': 155198, 'signup_date': '2023-03-15'}\n",
      "Sent to partition 1: {'consumer_id': '5a0788bf-bf25-42bb-90b2-98095b122f5c', 'name': 'Tim Fernandez', 'address': '651 Alexander Run, New Courtney, DC 77612', 'email': 'olsonashley@example.com', 'phone_number': '001-755-630-4847x204', 'gender': 'Male', 'birth_date': '1976-05-23', 'marital_status': 'Widowed', 'annual_income': 50514, 'signup_date': '2024-08-07'}\n",
      "Sent to partition 1: {'consumer_id': '5873ffa1-a115-4fc1-af0b-5a6cf642ce49', 'name': 'Michelle Schwartz', 'address': '744 Harris Plain Apt. 825, Michaelburgh, WY 13491', 'email': 'mperez@example.com', 'phone_number': '001-554-090-9138x314', 'gender': 'Female', 'birth_date': '1962-01-26', 'marital_status': 'Single', 'annual_income': 151769, 'signup_date': '2021-03-27'}\n",
      "Sent to partition 0: {'consumer_id': '1e94047e-2bc3-48fa-9db9-304117ba356e', 'name': 'Nicole Mason', 'address': '134 Gomez Villages, Dianestad, MD 65626', 'email': 'mchurch@example.org', 'phone_number': '+1-037-494-3888x8947', 'gender': 'Female', 'birth_date': '1970-05-01', 'marital_status': 'Married', 'annual_income': 159711, 'signup_date': '2022-11-29'}\n",
      "Sent to partition 1: {'consumer_id': '7ae3c6d2-e196-4c20-a015-730ebfc6e29d', 'name': 'James Acosta', 'address': '15237 Cooper Courts, Lake James, DC 17925', 'email': 'brendan67@example.com', 'phone_number': '1554369164', 'gender': 'Female', 'birth_date': '1974-07-28', 'marital_status': 'Widowed', 'annual_income': 86053, 'signup_date': '2021-03-30'}\n",
      "Sent to partition 1: {'consumer_id': '51db5d25-23d0-4475-994d-fbfe9fe8a2b3', 'name': 'Benjamin Waller', 'address': '415 Carla Branch Apt. 176, South Beverlyview, KS 98560', 'email': 'samanthalewis@example.net', 'phone_number': '323-880-0200', 'gender': 'Female', 'birth_date': '1953-06-02', 'marital_status': 'Divorced', 'annual_income': 150058, 'signup_date': '2021-01-20'}\n",
      "Sent to partition 0: {'consumer_id': '0dbabe26-4afa-4df9-9a65-d9f8f6da57b3', 'name': 'Debra Boyd', 'address': '42509 Herrera Locks, Aguirreberg, CA 33290', 'email': 'pricesydney@example.org', 'phone_number': '001-467-097-8411x9612', 'gender': 'Male', 'birth_date': '2005-09-05', 'marital_status': 'Divorced', 'annual_income': 37751, 'signup_date': '2022-09-06'}\n",
      "Sent to partition 1: {'consumer_id': 'af8f4ae4-4c38-4979-87cc-330ea84ad02c', 'name': 'Donald Cruz', 'address': '26837 Christopher Mountain Apt. 269, Millerville, NY 38647', 'email': 'wdixon@example.net', 'phone_number': '783-833-0206', 'gender': 'Male', 'birth_date': '1943-12-12', 'marital_status': 'Single', 'annual_income': 167372, 'signup_date': '2024-03-24'}\n",
      "Sent to partition 1: {'consumer_id': '38e98dda-cc79-435d-9476-ca1cf69f2a86', 'name': 'Jeffrey Perez', 'address': '1263 Robert Mountains, Pedrofurt, VA 92048', 'email': 'morrismelissa@example.net', 'phone_number': '064-428-8700', 'gender': 'Female', 'birth_date': '1984-09-16', 'marital_status': 'Divorced', 'annual_income': 42936, 'signup_date': '2022-07-21'}\n"
     ]
    }
   ],
   "source": [
    "# Number of events to send\n",
    "num_events = 10  # Change this to the number of events you want to send\n",
    "\n",
    "# Send a fixed number of events to Kafka\n",
    "for i in range(num_events):\n",
    "    # Generate random consumer data\n",
    "    data = DataGenerator.get_data()\n",
    "    payload = json.dumps(data).encode(\"utf-8\")\n",
    "\n",
    "    # Randomly assign partition based on available partitions\n",
    "    partition = random.choice(range(partition_count))\n",
    "\n",
    "    try:\n",
    "        response = producer.send(topic=kafka_topic, value=payload, partition=partition)\n",
    "        print(f\"Sent to partition {partition}: {data}\")\n",
    "    except Exception as e:\n",
    "        print(f\"Error sending to partition {partition}: {e}\")\n",
    "    \n",
    "    # Sleep for 5 seconds before sending the next event\n",
    "    sleep(5)"
   ]
  },
  {
   "cell_type": "code",
   "execution_count": null,
   "id": "a7704d9c-1e6c-48ff-8df0-8d2a6e34a0f9",
   "metadata": {},
   "outputs": [],
   "source": []
  },
  {
   "cell_type": "code",
   "execution_count": null,
   "id": "3807f6b6-2ed1-4b8c-9431-94fd07659825",
   "metadata": {},
   "outputs": [],
   "source": []
  }
 ],
 "metadata": {
  "kernelspec": {
   "display_name": "Python 3 (ipykernel)",
   "language": "python",
   "name": "python3"
  },
  "language_info": {
   "codemirror_mode": {
    "name": "ipython",
    "version": 3
   },
   "file_extension": ".py",
   "mimetype": "text/x-python",
   "name": "python",
   "nbconvert_exporter": "python",
   "pygments_lexer": "ipython3",
   "version": "3.10.10"
  }
 },
 "nbformat": 4,
 "nbformat_minor": 5
}

{
 "cells": [
  {
   "cell_type": "code",
   "execution_count": 1,
   "id": "a85fb357-8d5a-4b69-be6b-8cadcd440929",
   "metadata": {
    "tags": []
   },
   "outputs": [],
   "source": [
    "import json\n",
    "import uuid\n",
    "import os\n",
    "from dotenv import load_dotenv\n",
    "from pathlib import Path\n",
    "from kafka import KafkaProducer\n",
    "from kafka.admin import KafkaAdminClient, NewPartitions\n",
    "from faker import Faker\n",
    "from time import sleep\n",
    "import random"
   ]
  },
  {
   "cell_type": "code",
   "execution_count": 2,
   "id": "e3bcf10a-5cf9-4a87-abae-8c55bc558844",
   "metadata": {
    "tags": []
   },
   "outputs": [
    {
     "data": {
      "text/plain": [
       "True"
      ]
     },
     "execution_count": 2,
     "metadata": {},
     "output_type": "execute_result"
    }
   ],
   "source": [
    "# Load environment variables\n",
    "dotenv_path = Path('/resources/.env')\n",
    "load_dotenv(dotenv_path=dotenv_path)"
   ]
  },
  {
   "cell_type": "code",
   "execution_count": 3,
   "id": "ab8d768d-d211-49c0-ae1f-76d5c0f4a5d0",
   "metadata": {
    "tags": []
   },
   "outputs": [],
   "source": [
    "# Kafka configuration\n",
    "kafka_host = os.getenv('KAFKA_HOST')\n",
    "kafka_topic = os.getenv('KAFKA_TOPIC_NAME')"
   ]
  },
  {
   "cell_type": "code",
   "execution_count": 4,
   "id": "b553a89d-9852-457a-949e-b439ff650b77",
   "metadata": {
    "tags": []
   },
   "outputs": [
    {
     "name": "stdout",
     "output_type": "stream",
     "text": [
      "Kafka Host: dataeng-kafka\n",
      "Kafka Topic: test-topic\n"
     ]
    }
   ],
   "source": [
    "print(f\"Kafka Host: {kafka_host}\")\n",
    "print(f\"Kafka Topic: {kafka_topic}\")"
   ]
  },
  {
   "cell_type": "code",
   "execution_count": 5,
   "id": "e269127a-8e59-48dd-94aa-8e0e10e4e303",
   "metadata": {
    "tags": []
   },
   "outputs": [],
   "source": [
    "# Initialize Kafka Producer\n",
    "producer = KafkaProducer(bootstrap_servers=f'{kafka_host}:9092')\n",
    "faker = Faker()"
   ]
  },
  {
   "cell_type": "code",
   "execution_count": 6,
   "id": "4d8c1dba-dcb5-404d-abd8-2f04e61dcc6f",
   "metadata": {
    "tags": []
   },
   "outputs": [],
   "source": [
    "# Initialize Kafka Admin Client\n",
    "admin_client = KafkaAdminClient(bootstrap_servers=f\"{kafka_host}:9092\")"
   ]
  },
  {
   "cell_type": "code",
   "execution_count": 7,
   "id": "39062f64-4a6b-40a4-98ef-adb04506e0be",
   "metadata": {
    "tags": []
   },
   "outputs": [],
   "source": [
    "# Ensure the topic has at least 2 partitions\n",
    "def ensure_two_partitions(topic_name):\n",
    "    try:\n",
    "        # Fetch topic metadata\n",
    "        topic_metadata = admin_client.describe_topics([topic_name])\n",
    "        partitions = topic_metadata[0]['partitions']\n",
    "        partition_count = len(partitions)\n",
    "        print(f\"Current partition count for topic '{topic_name}': {partition_count}\")\n",
    "        \n",
    "        # Add partitions if less than 2\n",
    "        if partition_count < 2:\n",
    "            print(f\"Adding partitions to ensure topic '{topic_name}' has 2 partitions...\")\n",
    "            admin_client.create_partitions(\n",
    "                topic_partitions={topic_name: NewPartitions(total_count=2)}\n",
    "            )\n",
    "            print(f\"Successfully added partitions to topic '{topic_name}'.\")\n",
    "        else:\n",
    "            print(f\"Topic '{topic_name}' already has 2 or more partitions.\")\n",
    "    except Exception as e:\n",
    "        print(f\"Error while ensuring partitions for topic '{topic_name}': {e}\")"
   ]
  },
  {
   "cell_type": "code",
   "execution_count": 8,
   "id": "7a0df723-a386-4bc8-958a-bb70951a7d44",
   "metadata": {
    "tags": []
   },
   "outputs": [
    {
     "name": "stdout",
     "output_type": "stream",
     "text": [
      "Current partition count for topic 'test-topic': 2\n",
      "Topic 'test-topic' already has 2 or more partitions.\n"
     ]
    }
   ],
   "source": [
    "# Call the function to ensure the topic has at least 2 partitions\n",
    "ensure_two_partitions(kafka_topic)"
   ]
  },
  {
   "cell_type": "code",
   "execution_count": 9,
   "id": "a5a1865e-672a-40bf-8004-80d5603294da",
   "metadata": {
    "tags": []
   },
   "outputs": [
    {
     "name": "stdout",
     "output_type": "stream",
     "text": [
      "Final partition count for topic 'test-topic': 2\n"
     ]
    }
   ],
   "source": [
    "# Validate partitions again to get the final count\n",
    "topic_metadata = admin_client.describe_topics([kafka_topic])\n",
    "partition_count = len(topic_metadata[0]['partitions'])\n",
    "print(f\"Final partition count for topic '{kafka_topic}': {partition_count}\")"
   ]
  },
  {
   "cell_type": "code",
   "execution_count": 10,
   "id": "13a7e474-2937-4508-ad06-ec01ff521972",
   "metadata": {
    "tags": []
   },
   "outputs": [],
   "source": [
    "class DataGenerator:\n",
    "    @staticmethod\n",
    "    def get_data():\n",
    "        \"\"\"Generate random consumer data.\"\"\"\n",
    "        return {\n",
    "            \"consumer_id\": str(uuid.uuid4()),\n",
    "            \"name\": faker.name(),\n",
    "            \"address\": faker.address().replace(\"\\n\", \", \"),\n",
    "            \"email\": faker.email(),\n",
    "            \"phone_number\": faker.phone_number(),\n",
    "            \"gender\": faker.random_element(elements=[\"Male\", \"Female\"]),\n",
    "            \"birth_date\": faker.date_of_birth(minimum_age=18, maximum_age=80).strftime(\"%Y-%m-%d\"),\n",
    "            \"marital_status\": faker.random_element(elements=[\"Single\", \"Married\", \"Divorced\", \"Widowed\"]),\n",
    "            \"annual_income\": faker.random_int(min=20000, max=200000),\n",
    "            \"signup_date\": faker.date_this_decade().strftime(\"%Y-%m-%d\"),\n",
    "        }"
   ]
  },
  {
   "cell_type": "code",
   "execution_count": 13,
   "id": "0d9367d4-0104-4853-adc1-fd172f123d58",
   "metadata": {
    "tags": []
   },
   "outputs": [
    {
     "name": "stdout",
     "output_type": "stream",
     "text": [
      "Sent to partition 0: {'consumer_id': 'd9f81eeb-9466-4b2f-b260-daa427c85bd6', 'name': 'Jeffrey Reed', 'address': '513 Ballard Prairie Apt. 327, New Carrie, IL 19679', 'email': 'jenniferlopez@example.com', 'phone_number': '7376981391', 'gender': 'Female', 'birth_date': '1950-03-18', 'marital_status': 'Divorced', 'annual_income': 71824, 'signup_date': '2023-07-15'}\n",
      "Sent to partition 1: {'consumer_id': '19ab9524-bcf7-48da-bebd-ec1be9d72a88', 'name': 'Jonathan Morgan', 'address': 'USNS Davis, FPO AA 41982', 'email': 'padillakelly@example.net', 'phone_number': '886-839-7158x46026', 'gender': 'Female', 'birth_date': '1945-12-18', 'marital_status': 'Divorced', 'annual_income': 150935, 'signup_date': '2022-11-14'}\n",
      "Sent to partition 0: {'consumer_id': '029c034f-bc51-43fc-8018-f33cf20ca328', 'name': 'Tonya Turner', 'address': '74431 Tamara Key, West Robertville, ND 40040', 'email': 'qsmith@example.com', 'phone_number': '342-705-8856x9884', 'gender': 'Male', 'birth_date': '1982-08-05', 'marital_status': 'Divorced', 'annual_income': 180995, 'signup_date': '2021-07-13'}\n",
      "Sent to partition 1: {'consumer_id': '6b0d8291-9050-458b-bd0e-0a29df6be5ad', 'name': 'Christine Pacheco', 'address': '52616 Christopher Trail Suite 639, New Matthewfort, CT 34220', 'email': 'christinaatkins@example.net', 'phone_number': '1792033847', 'gender': 'Male', 'birth_date': '1973-03-22', 'marital_status': 'Single', 'annual_income': 82908, 'signup_date': '2022-08-04'}\n",
      "Sent to partition 0: {'consumer_id': 'ba938df9-e446-4dad-8d3b-316a004c1986', 'name': 'Steven Mcintyre', 'address': '02874 Brewer Wall Apt. 490, Kylefurt, NV 29709', 'email': 'janet91@example.com', 'phone_number': '001-867-379-7408x75183', 'gender': 'Female', 'birth_date': '1966-10-17', 'marital_status': 'Widowed', 'annual_income': 154591, 'signup_date': '2020-03-25'}\n",
      "Sent to partition 1: {'consumer_id': '29cf3c77-6d52-4a2d-ac33-b0a5b1a6edfd', 'name': 'Blake Jennings', 'address': '3147 Charles Viaduct, North Raymond, SC 04417', 'email': 'bakerfrank@example.net', 'phone_number': '001-114-174-6710x496', 'gender': 'Male', 'birth_date': '1991-11-14', 'marital_status': 'Divorced', 'annual_income': 144048, 'signup_date': '2024-01-15'}\n",
      "Sent to partition 1: {'consumer_id': 'a82e20a4-cf0e-400f-94a8-d7d800d03f84', 'name': 'Chelsea Larsen', 'address': '422 Kenneth Court Apt. 924, East Brettside, FL 88801', 'email': 'jerry98@example.com', 'phone_number': '168.096.4201x74089', 'gender': 'Female', 'birth_date': '1977-10-12', 'marital_status': 'Married', 'annual_income': 135942, 'signup_date': '2024-02-02'}\n",
      "Sent to partition 0: {'consumer_id': 'cfad308a-2177-4d46-91bc-cb4457604013', 'name': 'Elijah Norman', 'address': '258 Hernandez Glen, Mariamouth, FM 52919', 'email': 'qrangel@example.net', 'phone_number': '605-334-0693x955', 'gender': 'Male', 'birth_date': '1971-04-02', 'marital_status': 'Divorced', 'annual_income': 80031, 'signup_date': '2022-01-09'}\n",
      "Sent to partition 0: {'consumer_id': '7287fc84-3494-46fe-a755-94af05830ddd', 'name': 'Christy Mann', 'address': '3101 Snyder Roads, Clarkton, MH 64419', 'email': 'michaelwhite@example.org', 'phone_number': '(906)598-6410x905', 'gender': 'Male', 'birth_date': '1988-08-19', 'marital_status': 'Divorced', 'annual_income': 105981, 'signup_date': '2021-01-28'}\n",
      "Sent to partition 1: {'consumer_id': '300cc468-eae6-4b4b-a836-bd1065b00870', 'name': 'Joseph Reilly', 'address': '0989 Jeffrey Tunnel Apt. 739, West Virginiaborough, NY 59247', 'email': 'paige83@example.net', 'phone_number': '836-709-2169', 'gender': 'Female', 'birth_date': '1969-08-16', 'marital_status': 'Single', 'annual_income': 175179, 'signup_date': '2022-02-09'}\n"
     ]
    }
   ],
   "source": [
    "# Number of events to send\n",
    "num_events = 10  # Change this to the number of events you want to send\n",
    "\n",
    "# Send a fixed number of events to Kafka\n",
    "for i in range(num_events):\n",
    "    # Generate random consumer data\n",
    "    data = DataGenerator.get_data()\n",
    "    payload = json.dumps(data).encode(\"utf-8\")\n",
    "\n",
    "    # Randomly assign partition based on available partitions\n",
    "    partition = random.choice(range(partition_count))\n",
    "\n",
    "    try:\n",
    "        response = producer.send(topic=kafka_topic, value=payload, partition=partition)\n",
    "        print(f\"Sent to partition {partition}: {data}\")\n",
    "    except Exception as e:\n",
    "        print(f\"Error sending to partition {partition}: {e}\")\n",
    "    \n",
    "    # Sleep for 5 seconds before sending the next event\n",
    "    sleep(5)"
   ]
  },
  {
   "cell_type": "code",
   "execution_count": null,
   "id": "a7704d9c-1e6c-48ff-8df0-8d2a6e34a0f9",
   "metadata": {},
   "outputs": [],
   "source": []
  },
  {
   "cell_type": "code",
   "execution_count": null,
   "id": "3807f6b6-2ed1-4b8c-9431-94fd07659825",
   "metadata": {},
   "outputs": [],
   "source": []
  }
 ],
 "metadata": {
  "kernelspec": {
   "display_name": "Python 3 (ipykernel)",
   "language": "python",
   "name": "python3"
  },
  "language_info": {
   "codemirror_mode": {
    "name": "ipython",
    "version": 3
   },
   "file_extension": ".py",
   "mimetype": "text/x-python",
   "name": "python",
   "nbconvert_exporter": "python",
   "pygments_lexer": "ipython3",
   "version": "3.10.10"
  }
 },
 "nbformat": 4,
 "nbformat_minor": 5
}

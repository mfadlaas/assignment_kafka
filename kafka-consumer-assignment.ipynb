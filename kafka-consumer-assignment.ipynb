{
 "cells": [
  {
   "cell_type": "code",
   "execution_count": 1,
   "id": "87f615ff-9070-44ab-ad36-900aaa9b6252",
   "metadata": {
    "tags": []
   },
   "outputs": [],
   "source": [
    "import json\n",
    "import os\n",
    "from pathlib import Path\n",
    "from dotenv import load_dotenv\n",
    "from kafka import KafkaConsumer\n",
    "from collections import defaultdict"
   ]
  },
  {
   "cell_type": "code",
   "execution_count": 2,
   "id": "6b4614be-e43b-4b83-a713-25da464618c5",
   "metadata": {
    "tags": []
   },
   "outputs": [
    {
     "data": {
      "text/plain": [
       "True"
      ]
     },
     "execution_count": 2,
     "metadata": {},
     "output_type": "execute_result"
    }
   ],
   "source": [
    "# Load environment variables\n",
    "dotenv_path = Path('/resources/.env')\n",
    "load_dotenv(dotenv_path=dotenv_path)"
   ]
  },
  {
   "cell_type": "code",
   "execution_count": 3,
   "id": "886abc12-2ce2-44f0-b925-645123e35a07",
   "metadata": {
    "tags": []
   },
   "outputs": [],
   "source": [
    "# Kafka configuration\n",
    "kafka_host = os.getenv(\"KAFKA_HOST\") + \":9092\"\n",
    "kafka_topic = os.getenv(\"KAFKA_TOPIC_NAME\")\n",
    "kafka_topic_partition = os.getenv(\"KAFKA_TOPIC_NAME\") + \"-1\""
   ]
  },
  {
   "cell_type": "code",
   "execution_count": 4,
   "id": "473921ca-d094-4505-bf66-69056a6c4891",
   "metadata": {
    "tags": []
   },
   "outputs": [],
   "source": [
    "# Kafka Consumer Group\n",
    "consumer_group = \"consumer-group-1\""
   ]
  },
  {
   "cell_type": "code",
   "execution_count": 5,
   "id": "1de33050-c3af-4ebb-bce4-6faf812e9f75",
   "metadata": {
    "tags": []
   },
   "outputs": [],
   "source": [
    "# Rolling Aggregation State\n",
    "aggregation_state = defaultdict(lambda: {\"count\": 0, \"sum\": 0, \"avg\": 0})"
   ]
  },
  {
   "cell_type": "code",
   "execution_count": 6,
   "id": "b7e48269-a2fb-4199-a8db-992159da884f",
   "metadata": {
    "tags": []
   },
   "outputs": [],
   "source": [
    "# Kafka Consumer\n",
    "consumer = KafkaConsumer(\n",
    "    kafka_topic,  # Consumes messages from the main topic\n",
    "    group_id=consumer_group,\n",
    "    bootstrap_servers=kafka_host,\n",
    "    enable_auto_commit=True,\n",
    "    auto_offset_reset=\"earliest\",  # Start from the earliest offset if no committed offset exists\n",
    "    value_deserializer=lambda msg: json.loads(msg.decode(\"utf-8\")),  # Deserialize JSON messages\n",
    ")"
   ]
  },
  {
   "cell_type": "code",
   "execution_count": 7,
   "id": "2eddcdc8-652f-4d9e-a3e9-85211c7ffd0e",
   "metadata": {
    "tags": []
   },
   "outputs": [
    {
     "name": "stdout",
     "output_type": "stream",
     "text": [
      "Starting Kafka Consumer for topic: test-topic\n"
     ]
    }
   ],
   "source": [
    "# Function to update rolling aggregation\n",
    "def update_aggregation(key, value):\n",
    "    \"\"\"Update rolling aggregation for a specific key.\"\"\"\n",
    "    if key not in aggregation_state:\n",
    "        aggregation_state[key] = {\"count\": 0, \"sum\": 0, \"avg\": 0}\n",
    "\n",
    "    # Assuming `value` contains a numerical field named `annual_income`\n",
    "    amount = value.get(\"annual_income\", 0)  # Replace with the field you want to aggregate\n",
    "    aggregation_state[key][\"count\"] += 1\n",
    "    aggregation_state[key][\"sum\"] += amount\n",
    "    aggregation_state[key][\"avg\"] = aggregation_state[key][\"sum\"] / aggregation_state[key][\"count\"]\n",
    "\n",
    "# Start consuming Kafka messages\n",
    "print(f\"Starting Kafka Consumer for topic: {kafka_topic}\")"
   ]
  },
  {
   "cell_type": "code",
   "execution_count": 8,
   "id": "7906e4f8-a7e1-46b7-a4d7-b1f8af0ba091",
   "metadata": {
    "tags": []
   },
   "outputs": [
    {
     "name": "stdout",
     "output_type": "stream",
     "text": [
      "Rolling Gender Annual Income Aggregation: {\n",
      "  \"Female\": {\n",
      "    \"count\": 1,\n",
      "    \"sum\": 71824,\n",
      "    \"avg\": 71824.0\n",
      "  }\n",
      "}\n",
      "Rolling Gender Annual Income Aggregation: {\n",
      "  \"Female\": {\n",
      "    \"count\": 2,\n",
      "    \"sum\": 222759,\n",
      "    \"avg\": 111379.5\n",
      "  }\n",
      "}\n",
      "Rolling Gender Annual Income Aggregation: {\n",
      "  \"Female\": {\n",
      "    \"count\": 2,\n",
      "    \"sum\": 222759,\n",
      "    \"avg\": 111379.5\n",
      "  },\n",
      "  \"Male\": {\n",
      "    \"count\": 1,\n",
      "    \"sum\": 180995,\n",
      "    \"avg\": 180995.0\n",
      "  }\n",
      "}\n",
      "Rolling Gender Annual Income Aggregation: {\n",
      "  \"Female\": {\n",
      "    \"count\": 2,\n",
      "    \"sum\": 222759,\n",
      "    \"avg\": 111379.5\n",
      "  },\n",
      "  \"Male\": {\n",
      "    \"count\": 2,\n",
      "    \"sum\": 263903,\n",
      "    \"avg\": 131951.5\n",
      "  }\n",
      "}\n",
      "Rolling Gender Annual Income Aggregation: {\n",
      "  \"Female\": {\n",
      "    \"count\": 3,\n",
      "    \"sum\": 377350,\n",
      "    \"avg\": 125783.33333333333\n",
      "  },\n",
      "  \"Male\": {\n",
      "    \"count\": 2,\n",
      "    \"sum\": 263903,\n",
      "    \"avg\": 131951.5\n",
      "  }\n",
      "}\n",
      "Rolling Gender Annual Income Aggregation: {\n",
      "  \"Female\": {\n",
      "    \"count\": 3,\n",
      "    \"sum\": 377350,\n",
      "    \"avg\": 125783.33333333333\n",
      "  },\n",
      "  \"Male\": {\n",
      "    \"count\": 3,\n",
      "    \"sum\": 407951,\n",
      "    \"avg\": 135983.66666666666\n",
      "  }\n",
      "}\n",
      "Rolling Gender Annual Income Aggregation: {\n",
      "  \"Female\": {\n",
      "    \"count\": 4,\n",
      "    \"sum\": 513292,\n",
      "    \"avg\": 128323.0\n",
      "  },\n",
      "  \"Male\": {\n",
      "    \"count\": 3,\n",
      "    \"sum\": 407951,\n",
      "    \"avg\": 135983.66666666666\n",
      "  }\n",
      "}\n",
      "Rolling Gender Annual Income Aggregation: {\n",
      "  \"Female\": {\n",
      "    \"count\": 4,\n",
      "    \"sum\": 513292,\n",
      "    \"avg\": 128323.0\n",
      "  },\n",
      "  \"Male\": {\n",
      "    \"count\": 4,\n",
      "    \"sum\": 487982,\n",
      "    \"avg\": 121995.5\n",
      "  }\n",
      "}\n",
      "Rolling Gender Annual Income Aggregation: {\n",
      "  \"Female\": {\n",
      "    \"count\": 4,\n",
      "    \"sum\": 513292,\n",
      "    \"avg\": 128323.0\n",
      "  },\n",
      "  \"Male\": {\n",
      "    \"count\": 5,\n",
      "    \"sum\": 593963,\n",
      "    \"avg\": 118792.6\n",
      "  }\n",
      "}\n",
      "Rolling Gender Annual Income Aggregation: {\n",
      "  \"Female\": {\n",
      "    \"count\": 5,\n",
      "    \"sum\": 688471,\n",
      "    \"avg\": 137694.2\n",
      "  },\n",
      "  \"Male\": {\n",
      "    \"count\": 5,\n",
      "    \"sum\": 593963,\n",
      "    \"avg\": 118792.6\n",
      "  }\n",
      "}\n",
      "Consumer interrupted by user. Exiting...\n",
      "Consumer closed.\n"
     ]
    }
   ],
   "source": [
    "try:\n",
    "    for message in consumer:\n",
    "        # Deserialize the message\n",
    "        value = message.value\n",
    "\n",
    "        # Example key for aggregation (can be based on message data)\n",
    "        key = value.get(\"gender\")  # Aggregation key (e.g., gender)\n",
    "\n",
    "        # Update rolling aggregation\n",
    "        update_aggregation(key, value)\n",
    "\n",
    "        # Print the current rolling aggregation state\n",
    "        print(f\"Rolling Gender Annual Income Aggregation: {json.dumps(aggregation_state, indent=2)}\")\n",
    "\n",
    "except KeyboardInterrupt:\n",
    "    print(\"Consumer interrupted by user. Exiting...\")\n",
    "finally:\n",
    "    consumer.close()\n",
    "    print(\"Consumer closed.\")"
   ]
  },
  {
   "cell_type": "code",
   "execution_count": null,
   "id": "f815f48c-581e-44fb-a87b-c3d2bda6371d",
   "metadata": {},
   "outputs": [],
   "source": []
  }
 ],
 "metadata": {
  "kernelspec": {
   "display_name": "Python 3 (ipykernel)",
   "language": "python",
   "name": "python3"
  },
  "language_info": {
   "codemirror_mode": {
    "name": "ipython",
    "version": 3
   },
   "file_extension": ".py",
   "mimetype": "text/x-python",
   "name": "python",
   "nbconvert_exporter": "python",
   "pygments_lexer": "ipython3",
   "version": "3.10.10"
  }
 },
 "nbformat": 4,
 "nbformat_minor": 5
}
